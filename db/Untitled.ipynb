{
 "cells": [
  {
   "cell_type": "code",
   "execution_count": 1,
   "metadata": {
    "collapsed": true
   },
   "outputs": [],
   "source": [
    "# Python SQL toolkit and Object Relational Mapper\n",
    "import sqlalchemy\n",
    "from sqlalchemy.ext.automap import automap_base\n",
    "from sqlalchemy.orm import Session\n",
    "from sqlalchemy import create_engine, inspect\n",
    "from sqlalchemy import Column, Integer, String, Float\n",
    "from sqlalchemy.ext.declarative import declarative_base\n",
    "from sqlalchemy import func\n",
    "from pprint import pprint\n",
    "import datetime as dt\n",
    "import pandas as pd"
   ]
  },
  {
   "cell_type": "code",
   "execution_count": 3,
   "metadata": {},
   "outputs": [
    {
     "data": {
      "text/plain": [
       "[(1, 189014013, 'NON-CRIMINAL', 'STAY AWAY OR COURT ORDER, NON-DV RELATED', 'Monday', '01/01/2018', '22:37', 'TARAVAL', 'ARREST, BOOKED', '3500 Block of 19TH AV', -122.47482947577244, 37.723975823482135, '(37.723975823482135, -122.47482947577244)', 18901401371024.0),\n",
       " (2, 186095971, 'OTHER OFFENSES', 'OBSCENE PHONE CALLS(S)', 'Monday', '01/01/2018', '08:00', 'TENDERLOIN', 'NONE', '500 Block of EDDY ST', -122.41671073384802, 37.78335703909351, '(37.78335703909351, -122.41671073384802)', 18609597119050.0),\n",
       " (3, 186084021, 'FRAUD', 'CREDIT CARD, THEFT BY USE OF', 'Monday', '01/01/2018', '00:01', 'NORTHERN', 'NONE', '1200 Block of EDDY ST', -122.42822330317604, 37.78189594886033, '(37.78189594886033, -122.42822330317604)', 18608402109320.0),\n",
       " (4, 186072593, 'NON-CRIMINAL', 'LOST PROPERTY', 'Monday', '01/01/2018', '17:00', 'MISSION', 'NONE', '2100 Block of MARKET ST', -122.4297889869883, 37.766652147476215, '(37.766652147476215, -122.4297889869883)', 18607259371000.0),\n",
       " (5, 186063279, 'LARCENY/THEFT', 'GRAND THEFT FROM LOCKED AUTO', 'Monday', '01/01/2018', '22:00', 'SOUTHERN', 'NONE', '800 Block of BRYANT ST', -122.40340479147905, 37.775420706711, '(37.775420706711, -122.40340479147905)', 18606327906244.0)]"
      ]
     },
     "execution_count": 3,
     "metadata": {},
     "output_type": "execute_result"
    }
   ],
   "source": [
    "engine = create_engine(\"sqlite:///crimedata.sqlite\")\n",
    "\n",
    "conn = engine.connect()\n",
    "conn.execute(\"select * from crimedata2018 limit 5\").fetchall()"
   ]
  },
  {
   "cell_type": "code",
   "execution_count": null,
   "metadata": {
    "collapsed": true
   },
   "outputs": [],
   "source": []
  }
 ],
 "metadata": {
  "kernelspec": {
   "display_name": "Python [conda env:PythonData]",
   "language": "python",
   "name": "conda-env-PythonData-py"
  },
  "language_info": {
   "codemirror_mode": {
    "name": "ipython",
    "version": 3
   },
   "file_extension": ".py",
   "mimetype": "text/x-python",
   "name": "python",
   "nbconvert_exporter": "python",
   "pygments_lexer": "ipython3",
   "version": "3.6.4"
  }
 },
 "nbformat": 4,
 "nbformat_minor": 2
}
